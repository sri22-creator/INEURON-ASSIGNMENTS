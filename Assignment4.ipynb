{
 "cells": [
  {
   "cell_type": "raw",
   "id": "e66d009f",
   "metadata": {},
   "source": [
    "1. What exactly is []?\n",
    "Ans: empty list"
   ]
  },
  {
   "cell_type": "raw",
   "id": "dfb385c0",
   "metadata": {},
   "source": [
    "2. In a list of values stored in a variable called spam, how would you assign the value 'hello'; as the\n",
    "third value? (Assume [2, 4, 6, 8, 10] are in spam.)"
   ]
  },
  {
   "cell_type": "code",
   "execution_count": 92,
   "id": "42a8efbf",
   "metadata": {},
   "outputs": [
    {
     "name": "stdout",
     "output_type": "stream",
     "text": [
      "[2, 4, 6, 8, 10]\n",
      "[2, 4, 6, 8, 10, 'hello']\n"
     ]
    }
   ],
   "source": [
    "spam=[2,4,6,8,10]\n",
    "print(spam)\n",
    "spam.append('hello')\n",
    "print(spam)"
   ]
  },
  {
   "cell_type": "raw",
   "id": "eeefb321",
   "metadata": {},
   "source": [
    "Let pretend the spam includes the list [a,b,c,d] for the next three queries."
   ]
  },
  {
   "cell_type": "raw",
   "id": "87ebc3e5",
   "metadata": {},
   "source": [
    "3. What is the value of spam[int(int('3'* 2) / 11)]?"
   ]
  },
  {
   "cell_type": "code",
   "execution_count": 98,
   "id": "467ead72",
   "metadata": {},
   "outputs": [
    {
     "data": {
      "text/plain": [
       "'d'"
      ]
     },
     "execution_count": 98,
     "metadata": {},
     "output_type": "execute_result"
    }
   ],
   "source": [
    "spam=[\"a\",\"b\",\"c\",\"d\"]\n",
    "spam[int(int('3'* 2) / 11)]"
   ]
  },
  {
   "cell_type": "raw",
   "id": "748f5996",
   "metadata": {},
   "source": [
    "4. What is the value of spam[-1]? "
   ]
  },
  {
   "cell_type": "code",
   "execution_count": 99,
   "id": "3f2459cb",
   "metadata": {},
   "outputs": [
    {
     "data": {
      "text/plain": [
       "'d'"
      ]
     },
     "execution_count": 99,
     "metadata": {},
     "output_type": "execute_result"
    }
   ],
   "source": [
    "spam[-1]"
   ]
  },
  {
   "cell_type": "raw",
   "id": "ddc0b4a5",
   "metadata": {},
   "source": [
    "5. What is the value of spam[:2]?"
   ]
  },
  {
   "cell_type": "code",
   "execution_count": 100,
   "id": "70d1e4cc",
   "metadata": {},
   "outputs": [
    {
     "data": {
      "text/plain": [
       "['a', 'b']"
      ]
     },
     "execution_count": 100,
     "metadata": {},
     "output_type": "execute_result"
    }
   ],
   "source": [
    "spam[:2]"
   ]
  },
  {
   "cell_type": "raw",
   "id": "0d35f71a",
   "metadata": {},
   "source": [
    "Let;s pretend bacon has the list [3.14,'cat', 11,'cat' True] for the next three questions."
   ]
  },
  {
   "cell_type": "code",
   "execution_count": 102,
   "id": "e5c7afdc",
   "metadata": {},
   "outputs": [],
   "source": [
    "bacon=[3.14,'cat', 11,'cat', True]"
   ]
  },
  {
   "cell_type": "raw",
   "id": "c905258d",
   "metadata": {},
   "source": [
    "What is the value of bacon.index(cat)?"
   ]
  },
  {
   "cell_type": "code",
   "execution_count": 103,
   "id": "142b3e50",
   "metadata": {},
   "outputs": [
    {
     "data": {
      "text/plain": [
       "1"
      ]
     },
     "execution_count": 103,
     "metadata": {},
     "output_type": "execute_result"
    }
   ],
   "source": [
    "bacon.index('cat')"
   ]
  },
  {
   "cell_type": "raw",
   "id": "b42f4e40",
   "metadata": {},
   "source": [
    "7. How does bacon.append(99) change the look of the list value in bacon?"
   ]
  },
  {
   "cell_type": "code",
   "execution_count": 118,
   "id": "c70ad406",
   "metadata": {},
   "outputs": [
    {
     "data": {
      "text/plain": [
       "[3.14, 'cat', 11, 'cat', True, 99]"
      ]
     },
     "execution_count": 118,
     "metadata": {},
     "output_type": "execute_result"
    }
   ],
   "source": [
    "bacon.append(99)\n",
    "bacon"
   ]
  },
  {
   "cell_type": "raw",
   "id": "f188d8c5",
   "metadata": {},
   "source": [
    "8. How does bacon.remove('cat') change the look of the list in bacon?"
   ]
  },
  {
   "cell_type": "code",
   "execution_count": 119,
   "id": "e08706f1",
   "metadata": {},
   "outputs": [
    {
     "data": {
      "text/plain": [
       "[3.14, 11, 'cat', True, 99]"
      ]
     },
     "execution_count": 119,
     "metadata": {},
     "output_type": "execute_result"
    }
   ],
   "source": [
    "bacon.remove('cat')\n",
    "bacon"
   ]
  },
  {
   "cell_type": "raw",
   "id": "326c4712",
   "metadata": {},
   "source": [
    "9. What are the list concatenation and list replication operators?\n",
    "Ans: +,*"
   ]
  },
  {
   "cell_type": "code",
   "execution_count": 131,
   "id": "2105743c",
   "metadata": {},
   "outputs": [
    {
     "name": "stdout",
     "output_type": "stream",
     "text": [
      "ineuron\n",
      "['s', 's']\n"
     ]
    }
   ],
   "source": [
    "l1='i'\n",
    "l2='neuron'\n",
    "print(l1+l2)\n",
    "l=['s']*2\n",
    "print(l)"
   ]
  },
  {
   "cell_type": "raw",
   "id": "fd99f257",
   "metadata": {},
   "source": [
    "10. What is difference between the list methods append() and insert()?\n",
    "Ans: Append- appends object at the end of list\n",
    "insert- inserts object before index given by user"
   ]
  },
  {
   "cell_type": "code",
   "execution_count": 139,
   "id": "36d73f89",
   "metadata": {},
   "outputs": [
    {
     "name": "stdout",
     "output_type": "stream",
     "text": [
      "['i', 'neuron', 'academy']\n",
      "['academy', 'i', 'neuron', 'academy']\n"
     ]
    }
   ],
   "source": [
    "l=['i','neuron']\n",
    "l.append('academy')\n",
    "print(l)\n",
    "l.insert(0,'academy')\n",
    "print(l)"
   ]
  },
  {
   "cell_type": "raw",
   "id": "55551854",
   "metadata": {},
   "source": [
    "11. What are the two methods for removing items from a list?\n",
    "Ans: remove, pop"
   ]
  },
  {
   "cell_type": "raw",
   "id": "a1e52d84",
   "metadata": {},
   "source": [
    "12. Describe how list values and string values are identical.\n",
    "Ans: list - stores different datatypes\n",
    "String- stores different characters\n",
    "For a list & string they have indexes as common value, concatenation, replication"
   ]
  },
  {
   "cell_type": "raw",
   "id": "8ac81136",
   "metadata": {},
   "source": [
    "13. What's the difference between tuples and lists?\n",
    "Ans: tuples- immutable- can be used for data security purpose\n",
    "lists- Mutable"
   ]
  },
  {
   "cell_type": "raw",
   "id": "f874a832",
   "metadata": {},
   "source": [
    "14. How do you type a tuple value that only contains the integer 42?\n",
    "Ans: "
   ]
  },
  {
   "cell_type": "code",
   "execution_count": 152,
   "id": "eaad06ca",
   "metadata": {},
   "outputs": [
    {
     "data": {
      "text/plain": [
       "tuple"
      ]
     },
     "execution_count": 152,
     "metadata": {},
     "output_type": "execute_result"
    }
   ],
   "source": [
    "g=(42,)\n",
    "type(g)"
   ]
  },
  {
   "cell_type": "raw",
   "id": "cc14acb4",
   "metadata": {},
   "source": [
    "15. How do you get a list values tuple form? How do you get a tuple values list form?\n",
    "Ans: By typecasting it "
   ]
  },
  {
   "cell_type": "code",
   "execution_count": 151,
   "id": "b29a79b0",
   "metadata": {},
   "outputs": [
    {
     "name": "stdout",
     "output_type": "stream",
     "text": [
      "(1, 2, 3)\n",
      "[1, 2, 3]\n"
     ]
    }
   ],
   "source": [
    "l=[1,2,3]\n",
    "print(tuple(l))\n",
    "k=(1,2,3)\n",
    "print(list(k))"
   ]
  },
  {
   "cell_type": "raw",
   "id": "0818db05",
   "metadata": {},
   "source": [
    "16. Variables that 'contain'; list values are not necessarily lists themselves. Instead, what do they contain?\n",
    "Ans: reference or indices"
   ]
  },
  {
   "cell_type": "raw",
   "id": "9135bcb5",
   "metadata": {},
   "source": [
    "17. How do you distinguish between copy.copy() and copy.deepcopy()?\n",
    "copy.copy()- return shallow copy of list\n",
    "copy.deepcopy()- operations for data types that store a mutable collection"
   ]
  }
 ],
 "metadata": {
  "kernelspec": {
   "display_name": "Python 3 (ipykernel)",
   "language": "python",
   "name": "python3"
  },
  "language_info": {
   "codemirror_mode": {
    "name": "ipython",
    "version": 3
   },
   "file_extension": ".py",
   "mimetype": "text/x-python",
   "name": "python",
   "nbconvert_exporter": "python",
   "pygments_lexer": "ipython3",
   "version": "3.9.12"
  }
 },
 "nbformat": 4,
 "nbformat_minor": 5
}

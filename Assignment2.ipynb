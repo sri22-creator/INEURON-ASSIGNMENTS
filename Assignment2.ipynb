{
 "cells": [
  {
   "cell_type": "raw",
   "id": "8b5cd20b",
   "metadata": {},
   "source": [
    "1.What are the two values of the Boolean data type? How do you write them?\n",
    "\n",
    "ANS: True, False"
   ]
  },
  {
   "cell_type": "raw",
   "id": "886eafaa",
   "metadata": {},
   "source": [
    "2. What are the three different types of Boolean operators?\n",
    "\n",
    "ANS: AND, OR, NOT"
   ]
  },
  {
   "cell_type": "raw",
   "id": "d1e490d9",
   "metadata": {},
   "source": [
    "3. Make a list of each Boolean operator's truth tables (i.e. every possible combination of Boolean values for the operator and what it evaluate ).\n",
    "\n",
    "AND:\n",
    "0 0 0\n",
    "0 1 0\n",
    "1 0 0\n",
    "1 1 1\n",
    "\n",
    "OR:\n",
    "0 0 0\n",
    "0 1 1\n",
    "1 0 1\n",
    "1 1 1\n",
    "\n",
    "NOT:\n",
    "1 0\n",
    "0 1"
   ]
  },
  {
   "cell_type": "raw",
   "id": "40fc7560",
   "metadata": {},
   "source": [
    "4. What are the values of the following expressions?\n",
    "(5 > 4) and (3 == 5) --- False\n",
    "not (5 > 4)--- False\n",
    "(5 > 4) or (3 == 5) ----True\n",
    "not ((5 > 4) or (3 == 5))--- False\n",
    "(True and True) and (True == False)---False\n",
    "(not False) or (not True)---True"
   ]
  },
  {
   "cell_type": "raw",
   "id": "e8d5d7cf",
   "metadata": {},
   "source": [
    "5. What are the six comparison operators?\n",
    "\n",
    "ANS:==, >, < >=, <=, !="
   ]
  },
  {
   "cell_type": "raw",
   "id": "b3ed038f",
   "metadata": {},
   "source": [
    "6. How do you tell the difference between the equal to and assignment operators?Describe a condition and when you would use one.\n",
    "\n",
    "ANS: equal operator(==) - Which helps for comaprision \n",
    "Assignment operator(=)- which helps for storing data in a variable"
   ]
  },
  {
   "cell_type": "raw",
   "id": "307f7522",
   "metadata": {},
   "source": [
    "7. Identify the three blocks in this code:\n",
    "spam = 0\n",
    "if spam == 10:\n",
    "    print('eggs')\n",
    "\n",
    "ANS- -  \n",
    "\n",
    "\n",
    "spam = 0\n",
    "if spam > 5:\n",
    "    print('bacon')\n",
    "else:\n",
    "    print('ham')\n",
    "    \n",
    "ANS: ham\n",
    "    \n",
    "    \n",
    "print('spam')\n",
    "print('spam')\n",
    "\n",
    "ANS: \n",
    "spam\n",
    "spam"
   ]
  },
  {
   "cell_type": "raw",
   "id": "95a605cf",
   "metadata": {},
   "source": [
    "8. Write code that prints Hello if 1 is stored in spam, prints Howdy if 2 is stored in spam, and prints Greetings! if anything else is stored in spam."
   ]
  },
  {
   "cell_type": "code",
   "execution_count": 9,
   "id": "038a91ad",
   "metadata": {},
   "outputs": [
    {
     "name": "stdout",
     "output_type": "stream",
     "text": [
      "enter spam:2\n",
      "Howdy\n"
     ]
    }
   ],
   "source": [
    "spam=int(input(\"enter spam:\"))\n",
    "if spam==1:\n",
    "    print(\"Hello\")\n",
    "elif spam==2:\n",
    "    print(\"Howdy\")\n",
    "else:\n",
    "    print(\"Greetings!\")"
   ]
  },
  {
   "cell_type": "raw",
   "id": "6975b65e",
   "metadata": {},
   "source": [
    "9.If your programme is stuck in an endless loop, what keys you’ll press?\n",
    "\n",
    "ANS: Interrupt kernel(ctrl+c)"
   ]
  },
  {
   "cell_type": "raw",
   "id": "7950ee00",
   "metadata": {},
   "source": [
    "10. How can you tell the difference between break and continue?\n",
    "\n",
    "ANS: Break -- comes out of the existing loop \n",
    "continue -- skips the part of the loop and continues with next iteration"
   ]
  },
  {
   "cell_type": "raw",
   "id": "be354567",
   "metadata": {},
   "source": [
    "11. In a for loop, what is the difference between range(10), range(0, 10), and range(0, 10, 1)?\n",
    "\n",
    "range(10)- represents print 10 numbers\n",
    "range(0,10)- represents start from 0, print 10 numbers excluding 10\n",
    "range(0,10,1)-- represents start from 0, end with 10 excluding 10, with step size of 1\n",
    "\n",
    "All these output are same"
   ]
  },
  {
   "cell_type": "code",
   "execution_count": 14,
   "id": "b2c461b0",
   "metadata": {},
   "outputs": [
    {
     "name": "stdout",
     "output_type": "stream",
     "text": [
      "0\n",
      "1\n",
      "2\n",
      "3\n",
      "4\n",
      "5\n",
      "6\n",
      "7\n",
      "8\n",
      "9\n"
     ]
    }
   ],
   "source": [
    "for i in range(0,10,1):\n",
    "    print(i)"
   ]
  },
  {
   "cell_type": "raw",
   "id": "5607306d",
   "metadata": {},
   "source": [
    "12. Write a short program that prints the numbers 1 to 10 using a for loop. Then write an equivalent program that prints the numbers 1 to 10 using a while loop."
   ]
  },
  {
   "cell_type": "code",
   "execution_count": 15,
   "id": "1aa98ab9",
   "metadata": {},
   "outputs": [
    {
     "name": "stdout",
     "output_type": "stream",
     "text": [
      "1\n",
      "2\n",
      "3\n",
      "4\n",
      "5\n",
      "6\n",
      "7\n",
      "8\n",
      "9\n",
      "10\n"
     ]
    }
   ],
   "source": [
    "for i in range(1,11,1):\n",
    "    print(i)"
   ]
  },
  {
   "cell_type": "code",
   "execution_count": 21,
   "id": "597b1822",
   "metadata": {},
   "outputs": [
    {
     "name": "stdout",
     "output_type": "stream",
     "text": [
      "1\n",
      "2\n",
      "3\n",
      "4\n",
      "5\n",
      "6\n",
      "7\n",
      "8\n",
      "9\n",
      "10\n"
     ]
    }
   ],
   "source": [
    "number=0\n",
    "while number<10:\n",
    "    number=number+1\n",
    "    print(number)"
   ]
  },
  {
   "cell_type": "raw",
   "id": "cb531189",
   "metadata": {},
   "source": [
    "13. If you had a function named bacon() inside a module named spam, how would you call it after importing spam?\n",
    "\n",
    "ANS: \n",
    "module name= spam\n",
    "function name= bacon()\n",
    "\n",
    "spam.bacon()"
   ]
  }
 ],
 "metadata": {
  "kernelspec": {
   "display_name": "Python 3 (ipykernel)",
   "language": "python",
   "name": "python3"
  },
  "language_info": {
   "codemirror_mode": {
    "name": "ipython",
    "version": 3
   },
   "file_extension": ".py",
   "mimetype": "text/x-python",
   "name": "python",
   "nbconvert_exporter": "python",
   "pygments_lexer": "ipython3",
   "version": "3.9.12"
  }
 },
 "nbformat": 4,
 "nbformat_minor": 5
}

{
 "cells": [
  {
   "cell_type": "raw",
   "id": "2472170a",
   "metadata": {},
   "source": [
    "1. Why are functions advantageous to have in your programs?\n",
    "Ans: Functions helps to avoid reptitive steps for a code"
   ]
  },
  {
   "cell_type": "raw",
   "id": "ae059257",
   "metadata": {},
   "source": [
    "2. When does the code in a function run: when its specified or when its called?\n",
    "Ans: Code in a function runs when it is called "
   ]
  },
  {
   "cell_type": "raw",
   "id": "39890af3",
   "metadata": {},
   "source": [
    "3. What statement creates a function?\n",
    "Ans: def functionname(variable):\n",
    "         \"\"\"statements\"\"\""
   ]
  },
  {
   "cell_type": "raw",
   "id": "a15847aa",
   "metadata": {},
   "source": [
    "4. What is the difference between a function and a function call?\n",
    "Ans:\n",
    "def functionname(variable):\n",
    "    \"\"\"statements\"\"\"\n",
    "functioname(l)\n",
    "\n",
    "function- A piece of code\n",
    "function call- To execute our piece of code"
   ]
  },
  {
   "cell_type": "raw",
   "id": "9610dcda",
   "metadata": {},
   "source": [
    "5. How many global scopes are there in a Python program? How many local scopes?\n",
    "Ans: global scope-1 -- Variable defined outside function\n",
    "Local scope- many--- Variable defined inside function"
   ]
  },
  {
   "cell_type": "raw",
   "id": "b3f6de6f",
   "metadata": {},
   "source": [
    "6. What happens to variables in a local scope when the function call returns?\n",
    "Ans: variables defined inside function are local variables. These are not accessbile outside the function"
   ]
  },
  {
   "cell_type": "raw",
   "id": "496d3466",
   "metadata": {},
   "source": [
    "7. What is the concept of a return value? Is it possible to have a return value in an expression?\n",
    "Ans: return - to get a value form function\n",
    "Yes it possible"
   ]
  },
  {
   "cell_type": "raw",
   "id": "47c4ecc8",
   "metadata": {},
   "source": [
    "8. If a function does not have a return statement, what is the return value of a call to that function?\n",
    "Ans: None"
   ]
  },
  {
   "cell_type": "raw",
   "id": "2c2a5f7e",
   "metadata": {},
   "source": [
    "9. How do you make a function variable refer to the global variable?\n",
    "Ans: using global keyword"
   ]
  },
  {
   "cell_type": "raw",
   "id": "3240d8c1",
   "metadata": {},
   "source": [
    "10. What is the data type of None?\n",
    "Ans: Nonetype"
   ]
  },
  {
   "cell_type": "raw",
   "id": "39f284d7",
   "metadata": {},
   "source": [
    "11. What does the sentence import areallyourpetsnamederic do?\n",
    "Ans:areallyourpetsnamederic Module doesnt exist in python\n",
    "Gives you modulenotfounderror"
   ]
  },
  {
   "cell_type": "code",
   "execution_count": 87,
   "id": "f167c2c8",
   "metadata": {},
   "outputs": [
    {
     "ename": "ModuleNotFoundError",
     "evalue": "No module named 'areallyourpetsnamederic'",
     "output_type": "error",
     "traceback": [
      "\u001b[1;31m---------------------------------------------------------------------------\u001b[0m",
      "\u001b[1;31mModuleNotFoundError\u001b[0m                       Traceback (most recent call last)",
      "Input \u001b[1;32mIn [87]\u001b[0m, in \u001b[0;36m<cell line: 1>\u001b[1;34m()\u001b[0m\n\u001b[1;32m----> 1\u001b[0m \u001b[38;5;28;01mimport\u001b[39;00m \u001b[38;5;21;01mareallyourpetsnamederic\u001b[39;00m\n",
      "\u001b[1;31mModuleNotFoundError\u001b[0m: No module named 'areallyourpetsnamederic'"
     ]
    }
   ],
   "source": [
    "import areallyourpetsnamederic"
   ]
  },
  {
   "cell_type": "raw",
   "id": "63430bbc",
   "metadata": {},
   "source": [
    "12. If you had a bacon() feature in a spam module, what would you call it after importing spam?\n",
    "Ans: "
   ]
  },
  {
   "cell_type": "code",
   "execution_count": 89,
   "id": "cf6dda39",
   "metadata": {},
   "outputs": [
    {
     "ename": "ModuleNotFoundError",
     "evalue": "No module named 'spam'",
     "output_type": "error",
     "traceback": [
      "\u001b[1;31m---------------------------------------------------------------------------\u001b[0m",
      "\u001b[1;31mModuleNotFoundError\u001b[0m                       Traceback (most recent call last)",
      "Input \u001b[1;32mIn [89]\u001b[0m, in \u001b[0;36m<cell line: 1>\u001b[1;34m()\u001b[0m\n\u001b[1;32m----> 1\u001b[0m \u001b[38;5;28;01mimport\u001b[39;00m \u001b[38;5;21;01mspam\u001b[39;00m\n\u001b[0;32m      2\u001b[0m spam\u001b[38;5;241m.\u001b[39mbacon()\n",
      "\u001b[1;31mModuleNotFoundError\u001b[0m: No module named 'spam'"
     ]
    }
   ],
   "source": [
    "import spam\n",
    "spam.bacon()"
   ]
  },
  {
   "cell_type": "raw",
   "id": "673cd8fb",
   "metadata": {},
   "source": [
    "13. What can you do to save a programme from crashing if it encounters an error?\n",
    "Ans: Use try, except"
   ]
  },
  {
   "cell_type": "raw",
   "id": "2722df06",
   "metadata": {},
   "source": [
    "14. What is the purpose of the try clause? What is the purpose of the except clause?\n",
    "Ans: try: helps to execute block of statements if theres no error\n",
    "except: If theres an error it executes this block of statmenets are executed indicating an error in program"
   ]
  }
 ],
 "metadata": {
  "kernelspec": {
   "display_name": "Python 3 (ipykernel)",
   "language": "python",
   "name": "python3"
  },
  "language_info": {
   "codemirror_mode": {
    "name": "ipython",
    "version": 3
   },
   "file_extension": ".py",
   "mimetype": "text/x-python",
   "name": "python",
   "nbconvert_exporter": "python",
   "pygments_lexer": "ipython3",
   "version": "3.9.12"
  }
 },
 "nbformat": 4,
 "nbformat_minor": 5
}
